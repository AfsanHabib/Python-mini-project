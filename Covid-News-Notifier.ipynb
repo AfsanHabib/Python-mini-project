{
 "cells": [
  {
   "cell_type": "code",
   "execution_count": null,
   "metadata": {},
   "outputs": [
    {
     "name": "stderr",
     "output_type": "stream",
     "text": [
      "ERROR:root:Some trouble with the icon (C:\\Users\\afsan\\Documents\\AnacondaProject\\Desktop Notifier\\icon.ico): (2, 'LoadImage', 'The system cannot find the file specified.')\n"
     ]
    }
   ],
   "source": [
    "from win10toast import ToastNotifier\n",
    "from bs4 import BeautifulSoup\n",
    "import requests\n",
    "import time\n",
    "\n",
    "country = \"Bangladesh\"\n",
    "notification_duration = 60\n",
    "refresh_time = 1 #minutes\n",
    "data_check= []\n",
    "worldmetersLink = \"https://www.worldometers.info/coronavirus/\"\n",
    "\n",
    "def data_cleanup(array):\n",
    "    L = []\n",
    "    for i in array:\n",
    "        i = i.replace(\"+\",\"\")\n",
    "        i = i.replace(\"-\",\"\")\n",
    "        i = i.replace(\",\",\".\")\n",
    "        if i == \"\":\n",
    "            i = \"0\"\n",
    "        L.append(i.strip())\n",
    "    return L\n",
    "\n",
    "while True:\n",
    "    try:\n",
    "        html_page = requests.get(worldmetersLink)\n",
    "    except requests.exceptions.RequestException as e: \n",
    "        print (e)\n",
    "        continue\n",
    "    bs = BeautifulSoup(html_page.content, 'html.parser')\n",
    "\n",
    "    search = bs.select(\"div tbody tr td\")\n",
    "    start = -1\n",
    "    for i in range(len(search)):\n",
    "        if search[i].get_text().find(country) !=-1:\n",
    "            start = i\n",
    "            break\n",
    "    data = []\n",
    "    for i in range(1,8):\n",
    "        try:\n",
    "            data = data + [search[start+i].get_text()]\n",
    "        except:\n",
    "            data = data + [\"0\"]\n",
    "    \n",
    "    data= data_cleanup(data)\n",
    "    message = \"Total infected = {}, New Case = {}, Total Deaths = {}, New Deaths = {}, Recovred = {}, Active Case = {}, Serious Critical = {}\".format(*data)\n",
    "\n",
    "    \n",
    "    if data_check != data:\n",
    "        data_check = data\n",
    "        toaster = ToastNotifier()\n",
    "        toaster.show_toast(\"Coronavirus {}\".format(country) , message, duration = notification_duration , icon_path =\"icon.ico\")\n",
    "    else:\n",
    "        time.sleep(refresh_time*60)\n",
    "        continue\n"
   ]
  },
  {
   "cell_type": "code",
   "execution_count": null,
   "metadata": {},
   "outputs": [],
   "source": []
  }
 ],
 "metadata": {
  "kernelspec": {
   "display_name": "Python 3",
   "language": "python",
   "name": "python3"
  },
  "language_info": {
   "codemirror_mode": {
    "name": "ipython",
    "version": 3
   },
   "file_extension": ".py",
   "mimetype": "text/x-python",
   "name": "python",
   "nbconvert_exporter": "python",
   "pygments_lexer": "ipython3",
   "version": "3.8.3"
  }
 },
 "nbformat": 4,
 "nbformat_minor": 4
}
