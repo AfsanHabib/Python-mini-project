{
 "cells": [
  {
   "cell_type": "code",
   "execution_count": 10,
   "metadata": {},
   "outputs": [
    {
     "name": "stdout",
     "output_type": "stream",
     "text": [
      "listening...\n",
      "who are you\n",
      "listening...\n"
     ]
    },
    {
     "ename": "KeyError",
     "evalue": "None",
     "output_type": "error",
     "traceback": [
      "\u001b[1;31m---------------------------------------------------------------------------\u001b[0m",
      "\u001b[1;31mKeyError\u001b[0m                                  Traceback (most recent call last)",
      "\u001b[1;32m<ipython-input-10-96e631466161>\u001b[0m in \u001b[0;36m<module>\u001b[1;34m\u001b[0m\n\u001b[0;32m     74\u001b[0m \u001b[1;33m\u001b[0m\u001b[0m\n\u001b[0;32m     75\u001b[0m \u001b[1;33m\u001b[0m\u001b[0m\n\u001b[1;32m---> 76\u001b[1;33m \u001b[0mget_email_info\u001b[0m\u001b[1;33m(\u001b[0m\u001b[1;33m)\u001b[0m\u001b[1;33m\u001b[0m\u001b[1;33m\u001b[0m\u001b[0m\n\u001b[0m\u001b[0;32m     77\u001b[0m \u001b[1;33m\u001b[0m\u001b[0m\n\u001b[0;32m     78\u001b[0m \u001b[1;33m\u001b[0m\u001b[0m\n",
      "\u001b[1;32m<ipython-input-10-96e631466161>\u001b[0m in \u001b[0;36mget_email_info\u001b[1;34m()\u001b[0m\n\u001b[0;32m     58\u001b[0m     \u001b[0mtalk\u001b[0m\u001b[1;33m(\u001b[0m\u001b[1;34m'To Whom you want to send email?'\u001b[0m\u001b[1;33m)\u001b[0m\u001b[1;33m\u001b[0m\u001b[1;33m\u001b[0m\u001b[0m\n\u001b[0;32m     59\u001b[0m     \u001b[0mname\u001b[0m \u001b[1;33m=\u001b[0m \u001b[0mget_info\u001b[0m\u001b[1;33m(\u001b[0m\u001b[1;33m)\u001b[0m\u001b[1;33m\u001b[0m\u001b[1;33m\u001b[0m\u001b[0m\n\u001b[1;32m---> 60\u001b[1;33m     \u001b[0mreceiver\u001b[0m \u001b[1;33m=\u001b[0m \u001b[0memail_list\u001b[0m\u001b[1;33m[\u001b[0m\u001b[0mname\u001b[0m\u001b[1;33m]\u001b[0m\u001b[1;33m\u001b[0m\u001b[1;33m\u001b[0m\u001b[0m\n\u001b[0m\u001b[0;32m     61\u001b[0m     \u001b[0mprint\u001b[0m\u001b[1;33m(\u001b[0m\u001b[0mreceiver\u001b[0m\u001b[1;33m)\u001b[0m\u001b[1;33m\u001b[0m\u001b[1;33m\u001b[0m\u001b[0m\n\u001b[0;32m     62\u001b[0m     \u001b[0mtalk\u001b[0m\u001b[1;33m(\u001b[0m\u001b[1;34m'What is the subject of your email?'\u001b[0m\u001b[1;33m)\u001b[0m\u001b[1;33m\u001b[0m\u001b[1;33m\u001b[0m\u001b[0m\n",
      "\u001b[1;31mKeyError\u001b[0m: None"
     ]
    }
   ],
   "source": [
    "#Necessary packages= SpeechRecognition , pyAudio packages & pyttsx3 \n",
    "\n",
    "import smtplib\n",
    "import speech_recognition as sr \n",
    "import pyttsx3\n",
    "from email.message import EmailMessage\n",
    "\n",
    "\n",
    "listener = sr.Recognizer()\n",
    "engine = pyttsx3.init()\n",
    "\n",
    "\n",
    "def talk(text):\n",
    "    engine.say(text)\n",
    "    engine.runAndWait()  \n",
    "    \n",
    "    \n",
    "def get_info():\n",
    "    try:\n",
    "        with sr.Microphone() as source:\n",
    "            print('listening...')\n",
    "            voice = listener.listen(source)\n",
    "            info = listener.recognize_google(voice)\n",
    "            print(info)\n",
    "            return info.lower()\n",
    "    except:\n",
    "        pass\n",
    "\n",
    "\n",
    "def send_email(receiver, subject, message):\n",
    "    server =smtplib.SMTP('smtp.gmail.com', 587) #SMTP = Simple Mail Transfer Protocol & 587 is port\n",
    "    server.starttls() # To secure TRusted server\n",
    "    server.login('your mail id', 'your mail pass')\n",
    "    email = EmailMessage()\n",
    "    email['From'] = 'afsan.self@gmail.com'\n",
    "    email['To'] = receiver\n",
    "    email['Subject'] = subject\n",
    "    email.set_content(message)\n",
    "    server.send_message(email)    \n",
    "    \n",
    "    \n",
    "email_list = {\n",
    "    'afsan': 'afsan.uct@gmail.com',\n",
    "    'test': 'afsanhabib.facebook@gmail.com',\n",
    "    'afnan': 'habibafnan80@gmail.com',\n",
    "    'habib': 'afsanhabib.ah@gmail.com',\n",
    "    'afrin': 'kisowarjahan.kj@gmail.com',\n",
    "    'jagir': 'jhossain717@gmail.com'\n",
    "}\n",
    "    \n",
    "\n",
    "def get_email_info():\n",
    "    talk('Hey Afsan..! I am listening...')\n",
    "    tns = get_info()\n",
    "    if 'who are you' in tns:\n",
    "        talk('I am GuluGulu')\n",
    "    talk('To Whom you want to send email?')\n",
    "    name = get_info()\n",
    "    receiver = email_list[name]\n",
    "    print(receiver)\n",
    "    talk('What is the subject of your email?')\n",
    "    subject = get_info()\n",
    "    talk('What is the text in your email?')\n",
    "    message = get_info()\n",
    "    send_email(receiver, subject, message)\n",
    "    talk('Hey Lazy GuluGulu. Your email is sent')\n",
    "    talk('Do you want to send more email?')\n",
    "    send_more = get_info()\n",
    "    if 'yes' in send_more:\n",
    "        get_email_info()\n",
    "    else:\n",
    "        talk('Ok Afsan...Good Bye....')\n",
    "\n",
    "\n",
    "get_email_info()\n",
    "    \n",
    "    \n",
    "    "
   ]
  },
  {
   "cell_type": "code",
   "execution_count": null,
   "metadata": {},
   "outputs": [],
   "source": []
  }
 ],
 "metadata": {
  "kernelspec": {
   "display_name": "Python 3",
   "language": "python",
   "name": "python3"
  },
  "language_info": {
   "codemirror_mode": {
    "name": "ipython",
    "version": 3
   },
   "file_extension": ".py",
   "mimetype": "text/x-python",
   "name": "python",
   "nbconvert_exporter": "python",
   "pygments_lexer": "ipython3",
   "version": "3.8.8"
  }
 },
 "nbformat": 4,
 "nbformat_minor": 4
}
