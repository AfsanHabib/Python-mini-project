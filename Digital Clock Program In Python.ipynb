{
 "cells": [
  {
   "cell_type": "code",
   "execution_count": 3,
   "metadata": {},
   "outputs": [],
   "source": [
    "from tkinter import *\n",
    "from tkinter import ttk\n",
    "from tkinter import font\n",
    "import time\n",
    "import datetime\n",
    "\n",
    "\n",
    "def quit(*args):\n",
    "    root.destroy()\n",
    "\n",
    "\n",
    "def clock_time():\n",
    "    time = datetime.datetime.now()\n",
    "    time = (time.strftime(\"Date: %d-%m-%Y \\nTime: %H:%M:%S \\n \\nThis is Afsan Habib\"))\n",
    "    txt.set(time)\n",
    "\n",
    "    root.after(1000, clock_time)\n",
    "\n",
    "\n",
    "root = Tk()\n",
    "\n",
    "root.configure(bg=\"black\")\n",
    "root.bind(\"x\", quit)\n",
    "root.geometry(\"1200x600\")\n",
    "root.title(\"Digital Clock By afsanhabib.com\")\n",
    "root.after(1000, clock_time)\n",
    "\n",
    "fnt = font.Font(family=\"helvetica\", size=80, weight=\"bold\")\n",
    "txt = StringVar()\n",
    "lbl = ttk.Label(root, textvariable=txt, font=fnt, foreground=\"blue\", background=\"black\")\n",
    "lbl.place(relx=0.5, rely=0.5, anchor=CENTER)\n",
    "\n",
    "root.mainloop()"
   ]
  }
 ],
 "metadata": {
  "kernelspec": {
   "display_name": "Python 3",
   "language": "python",
   "name": "python3"
  },
  "language_info": {
   "codemirror_mode": {
    "name": "ipython",
    "version": 3
   },
   "file_extension": ".py",
   "mimetype": "text/x-python",
   "name": "python",
   "nbconvert_exporter": "python",
   "pygments_lexer": "ipython3",
   "version": "3.8.3"
  }
 },
 "nbformat": 4,
 "nbformat_minor": 4
}
